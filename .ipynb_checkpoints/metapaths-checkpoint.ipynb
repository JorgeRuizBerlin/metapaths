{
 "cells": [
  {
   "cell_type": "markdown",
   "metadata": {},
   "source": [
    "# Metapaths for Link Prediction\n",
    "\n",
    "## Introduction\n",
    "\n",
    "The generalization of a bipartite network is a multipartite network, with an arbitrary number of node classes. In order to take full advantage of all the information in such a network, we need a new topological feature that moves beyond common neighbors and local community links, because these features only depend on the first degree neighbors of each node. One possible candidate for such a feature is the metapath, as used in (Shakibian et al, Scientific Reports 2017). A metapath describes one specific way of moving from a node of one type to another node (of the same or different type). It is defined by the sequence of node types that the path must follow - for instance the sequence source neuron -> neurotransmitter -> neuroreceptor -> neurotransmitter is one example of a metapath. We can then have a metapath instance, which is a particular sequence of connected nodes that follows the schema laid out by a given metapath. To continue the example, an instance of the previously defined metapath might be ADAL -> Glu -> some neuroreceptor -> some other neurotransmitter, but clearly there can be many instances of a given metapath. In this notebook we have attempted to generalize the bipartite framework for mutual information link prediction to the multipartite case, using metapaths as the main feature.\n",
    "\n",
    "## Setup\n",
    "\n",
    "Autoreload and some code copied from the Keras machine learning documentation to keep tensorflow results reproducible, plus all the other libraries required."
   ]
  },
  {
   "cell_type": "code",
   "execution_count": 1,
   "metadata": {},
   "outputs": [],
   "source": [
    "%load_ext autoreload\n",
    "%autoreload 2"
   ]
  },
  {
   "cell_type": "code",
   "execution_count": 2,
   "metadata": {},
   "outputs": [],
   "source": [
    "import numpy as np\n",
    "import tensorflow as tf\n",
    "import random as rn\n",
    "\n",
    "# The below is necessary in Python 3.2.3 onwards to\n",
    "# have reproducible behavior for certain hash-based operations.\n",
    "# See these references for further details:\n",
    "# https://docs.python.org/3.4/using/cmdline.html#envvar-PYTHONHASHSEED\n",
    "# https://github.com/keras-team/keras/issues/2280#issuecomment-306959926\n",
    "\n",
    "import os\n",
    "os.environ['PYTHONHASHSEED'] = '0'\n",
    "\n",
    "# The below is necessary for starting Numpy generated random numbers\n",
    "# in a well-defined initial state.\n",
    "np.random.seed(42)\n",
    "\n",
    "# The below is necessary for starting core Python generated random numbers\n",
    "# in a well-defined state.\n",
    "rn.seed(12345)\n",
    "\n",
    "# Force TensorFlow to use single thread.\n",
    "# Multiple threads are a potential source of\n",
    "# non-reproducible results.\n",
    "# For further details, see: https://stackoverflow.com/questions/42022950/which-seeds-have-to-be-set-where-to-realize-100-reproducibility-of-training-res\n",
    "\n",
    "##session_conf = tf.ConfigProto(intra_op_parallelism_threads=1, inter_op_parallelism_threads=1)\n",
    "##UNCOMMENT PREVIOUS LINE FOR TensorFlow 1 AND COMMENT NEXT ONE:\n",
    "session_conf = tf.compat.v1.ConfigProto(intra_op_parallelism_threads=1, inter_op_parallelism_threads=1)\n",
    "\n",
    "\n",
    "from keras import backend as K\n",
    "\n",
    "# The below tf.set_random_seed() will make random number generation\n",
    "# in the TensorFlow backend have a well-defined initial state.\n",
    "# For further details, see: https://www.tensorflow.org/api_docs/python/tf/set_random_seed\n",
    "\n",
    "##tf.set_random_seed(1234)\n",
    "##UNCOMMENT PREVIOUS LINE FOR TensorFlow 1 AND COMMENT NEXT ONE:\n",
    "tf.random.set_seed(1234)\n",
    "\n",
    "##sess = tf.Session(graph=tf.get_default_graph(), config=session_conf)\n",
    "##UNCOMMENT PREVIOUS LINE FOR TensorFlow 1 AND COMMENT NEXT ONE:\n",
    "sess = tf.compat.v1.Session(graph=tf.compat.v1.get_default_graph(), config=session_conf)\n",
    "##K.set_session(sess)\n",
    "##UNCOMMENT PREVIOUS LINE FOR TensorFlow 1 AND COMMENT NEXT ONE:\n",
    "tf.compat.v1.keras.backend.set_session(sess)\n",
    "\n",
    "# Rest of code follows ..."
   ]
  },
  {
   "cell_type": "code",
   "execution_count": 3,
   "metadata": {},
   "outputs": [],
   "source": [
    "import matplotlib.pyplot as plt\n",
    "import pickle\n",
    "\n",
    "from sklearn.metrics import precision_recall_curve, auc\n",
    "from sklearn.base import BaseEstimator, RegressorMixin, ClassifierMixin\n",
    "from sklearn.utils.validation import check_X_y, check_array, check_is_fitted\n",
    "from sklearn.model_selection import RandomizedSearchCV\n",
    "from sklearn.metrics import make_scorer\n",
    "import scipy.stats\n",
    "\n",
    "from keras.models import Sequential\n",
    "from keras.layers import Dense, Dropout\n",
    "from keras.regularizers import l1, l1_l2\n",
    "from keras.initializers import he_normal\n",
    "from keras.activations import sigmoid\n",
    "\n",
    "import b_val as val"
   ]
  },
  {
   "cell_type": "markdown",
   "metadata": {},
   "source": [
    "## Metapath Probability Definition\n",
    "\n",
    "In order to generalize the mutual information method to multipartite networks, we need a definition of the probability of a link existing given that a certain metapath instance connects the two nodes in question. As a natural extension of the monopartite clustering coefficient (triangles) and the bipartite LCL clustering coefficient (quadrangles), let us define this probability as a sort of 'metapath clustering coefficient'.\n",
    "\n",
    "$$ p(L_{xy}|p_z) = \\frac{N_{\\text{closed}}}{N_{\\text{open}}+N_{\\text{closed}}} $$\n",
    "\n",
    "where $N_{\\text{closed}}$ and $N_{\\text{open}}$ can be described as follows. Consider the path $p_z$: $x$ -> $n_1$ -> ... -> $n_k$ -> $y$ with $k$ intermediate nodes between $x$ and $y$. The node closest to $x$ is $n_1$ and the node closest to $y$ is $n_k$. We look at all the metapaths that start at a node with the same type as $x$ (call it $x'$), follow $p_z$ from $n_1$ through $n_k$, and end at a node of the same type as $y$ (call it $y'$). In a sense these are the most similar paths to $p_z$ without actually replicating $p_z$. Then $N_{closed}$ is the number of such paths where $x'$ and $y'$ are connected, and $N_{\\text{open}}$ is the number of such paths where they are not. \n",
    "\n",
    "It turns out that this definition is all that is required to use the mutual information method for link prediction in the multipartite case, since the 'a priori' probability $p(L_{xy})$ still depends only on the degrees of $x$ and $y$ within their particular bipartite section of the larger multipartite network. The difference is that now instead of only common neighbors and LCLs to use as features, we can use any metapath that connects $x$ and $y$. Interestingly, both common neighbors and LCLs are special cases of metapaths, for example the path for an LCL in a bipartite network is $x$ -> (node of same type as $y$) -> (node of same type as $x$) -> $y$.\n",
    "\n",
    "\n",
    "## Precomputed Metapath Scores\n",
    "\n",
    "In order to count the number of open and closed metapaths in a multipartite network, we implemented a recursive depth-first search algorithm that runs through all paths and quickly eliminates those that do not fit the target criteria. The code for this implementation is in the metapaths.py library. The algorithm runs fairly quickly for short metapaths, but slows down significantly for longer paths. Therefore we precomputed and saved the self information scores on the Elegans dataset using all the metapaths with lengths up to 6 and saved them to a file. The paths are (in no particular order):\n",
    "\n",
    "source -> NT -> source -> NT \n",
    "\n",
    "source -> NT -> NR -> NT\n",
    "\n",
    "source -> NT -> source -> NT -> source -> NT\n",
    "\n",
    "source -> NT -> NR -> NT -> source -> NT\n",
    "\n",
    "source -> NT -> NR -> NT -> NR -> NT\n",
    "\n",
    "source -> NT -> source -> NT -> NR -> NT\n",
    "\n",
    "source -> NT -> NR -> target -> NR -> NT\n",
    "\n",
    "In the saved data, 10 cross validation trials were executed and the results were concatenated into one large array with shape $((\\text{# of missing links})*10, 7)$. The ground truth connections are stored in an array with shape $((\\text{# of missing links})*10, 7)$.\n",
    "\n",
    "Now that all the score from these paths are computed, we can try combining them using either a linear combination or some machine learning. "
   ]
  },
  {
   "cell_type": "code",
   "execution_count": 4,
   "metadata": {},
   "outputs": [],
   "source": [
    "# Load scores\n",
    "with open('mp_X.pkl', 'rb') as inf:\n",
    "    X = pickle.load(inf)"
   ]
  },
  {
   "cell_type": "code",
   "execution_count": 5,
   "metadata": {},
   "outputs": [],
   "source": [
    "# Load ground truth\n",
    "with open('mp_Y.pkl', 'rb') as inf:\n",
    "    y = pickle.load(inf)"
   ]
  },
  {
   "cell_type": "markdown",
   "metadata": {},
   "source": [
    "## Machine Learning\n",
    "\n",
    "In order to avoid the 'black box' aspect of machine learning, we have gone with the simplest neural network we could think of. Essentially it implements the transformation\n",
    "\n",
    "$$ \\text{score} = \\sigma(W_2\\cdot (W_1\\cdot X) + b) $$\n",
    "\n",
    "where the input $X$ is the vector of seven diferent metapath scores, $W_1$ is a vector of seven wieghts, $W_2$ is a single weight for the classification layer, and $b$ is a trainable bias parameter. All the data is used for training since really we are only interested in seeing whether there is some optimal combination of the metapath scores that is better than the bipartite LCL metapath. "
   ]
  },
  {
   "cell_type": "code",
   "execution_count": 6,
   "metadata": {
    "scrolled": false
   },
   "outputs": [
    {
     "name": "stdout",
     "output_type": "stream",
     "text": [
      "Epoch 1/20\n",
      "683/683 [==============================] - 1s 993us/step - loss: 55.8691 - accuracy: 0.7373\n",
      "Epoch 2/20\n",
      "683/683 [==============================] - 1s 1ms/step - loss: 0.2420 - accuracy: 0.9914\n",
      "Epoch 3/20\n",
      "683/683 [==============================] - 1s 1ms/step - loss: 0.1915 - accuracy: 0.9921\n",
      "Epoch 4/20\n",
      "683/683 [==============================] - 1s 975us/step - loss: 0.1513 - accuracy: 0.9921\n",
      "Epoch 5/20\n",
      "683/683 [==============================] - 1s 1ms/step - loss: 0.1222 - accuracy: 0.9921\n",
      "Epoch 6/20\n",
      "683/683 [==============================] - 1s 1ms/step - loss: 0.1007 - accuracy: 0.9921\n",
      "Epoch 7/20\n",
      "683/683 [==============================] - 1s 979us/step - loss: 0.0899 - accuracy: 0.9921\n",
      "Epoch 8/20\n",
      "683/683 [==============================] - 1s 972us/step - loss: 0.0812 - accuracy: 0.9921\n",
      "Epoch 9/20\n",
      "683/683 [==============================] - 1s 1ms/step - loss: 0.0749 - accuracy: 0.9920\n",
      "Epoch 10/20\n",
      "683/683 [==============================] - 1s 1ms/step - loss: 0.0900 - accuracy: 0.9915\n",
      "Epoch 11/20\n",
      "683/683 [==============================] - 1s 1ms/step - loss: 0.0705 - accuracy: 0.9919\n",
      "Epoch 12/20\n",
      "683/683 [==============================] - 1s 1ms/step - loss: 0.0741 - accuracy: 0.9916\n",
      "Epoch 13/20\n",
      "683/683 [==============================] - 1s 1ms/step - loss: 0.0861 - accuracy: 0.9915\n",
      "Epoch 14/20\n",
      "683/683 [==============================] - 1s 1ms/step - loss: 0.0671 - accuracy: 0.9916\n",
      "Epoch 15/20\n",
      "683/683 [==============================] - 1s 988us/step - loss: 0.0608 - accuracy: 0.9920\n",
      "Epoch 16/20\n",
      "683/683 [==============================] - 1s 1ms/step - loss: 0.0652 - accuracy: 0.9915\n",
      "Epoch 17/20\n",
      "683/683 [==============================] - 1s 998us/step - loss: 0.0628 - accuracy: 0.9917\n",
      "Epoch 18/20\n",
      "683/683 [==============================] - 1s 1ms/step - loss: 0.0595 - accuracy: 0.9919\n",
      "Epoch 19/20\n",
      "683/683 [==============================] - 1s 1ms/step - loss: 0.0564 - accuracy: 0.9918\n",
      "Epoch 20/20\n",
      "683/683 [==============================] - 1s 1ms/step - loss: 0.0525 - accuracy: 0.9920\n"
     ]
    },
    {
     "data": {
      "text/plain": [
       "<tensorflow.python.keras.callbacks.History at 0x7f0d3c093780>"
      ]
     },
     "execution_count": 6,
     "metadata": {},
     "output_type": "execute_result"
    }
   ],
   "source": [
    "# Machine learning model\n",
    "model = Sequential()\n",
    "model.add(Dense(1, input_dim=7, activation='linear', kernel_initializer='ones', use_bias=False))\n",
    "#model.add(Dropout(0.2)) like example in notebook ml_local_community\n",
    "model.add(Dense(1, activation='sigmoid'))\n",
    "#model.add(Dropout(0.2))  like example in notebook ml_local_community\n",
    "\n",
    "model.compile(loss='binary_crossentropy',\n",
    "              optimizer='adam',\n",
    "              metrics=['accuracy'])\n",
    "\n",
    "model.fit(np.copy(X), np.copy(y),\n",
    "          epochs=20,\n",
    "          batch_size=128)"
   ]
  },
  {
   "cell_type": "code",
   "execution_count": 7,
   "metadata": {},
   "outputs": [],
   "source": [
    "# Use trained model to generate scores\n",
    "pred = model.predict(np.copy(X))"
   ]
  },
  {
   "cell_type": "code",
   "execution_count": 8,
   "metadata": {},
   "outputs": [
    {
     "data": {
      "image/png": "[encoded data removed]",
      "text/plain": [
       "<Figure size 432x288 with 1 Axes>"
      ]
     },
     "metadata": {
      "needs_background": "light"
     },
     "output_type": "display_data"
    },
    {
     "data": {
      "text/plain": [
       "(0.013884563124946922, 0.6275773651635721)"
      ]
     },
     "execution_count": 8,
     "metadata": {},
     "output_type": "execute_result"
    }
   ],
   "source": [
    "# Compare to results from the LCL metapath - not great\n",
    "val.evaluate_predictions(np.copy(y), pred, plot=True)"
   ]
  },
  {
   "cell_type": "code",
   "execution_count": 9,
   "metadata": {},
   "outputs": [
    {
     "data": {
      "image/png": "[encoded data removed]",
      "text/plain": [
       "<Figure size 432x288 with 1 Axes>"
      ]
     },
     "metadata": {
      "needs_background": "light"
     },
     "output_type": "display_data"
    },
    {
     "data": {
      "text/plain": [
       "(0.08131365880885413, 0.6755037029979993)"
      ]
     },
     "execution_count": 9,
     "metadata": {},
     "output_type": "execute_result"
    }
   ],
   "source": [
    "val.evaluate_predictions(np.copy(y), np.copy(X)[:,0], plot=True)"
   ]
  },
  {
   "cell_type": "markdown",
   "metadata": {},
   "source": [
    "## A Simpler Case\n",
    "\n",
    "It turns out that if we combine the scores from only the first two metapaths (going by the list earlier in the notebook), we do get a better results. This suggests that there may be an effective way of combining more of the metapaths, although we have not had the time to look into this problem in enough detail. We think it would be worth investigating further. "
   ]
  },
  {
   "cell_type": "code",
   "execution_count": 10,
   "metadata": {},
   "outputs": [],
   "source": [
    "scores_1_2 = []\n",
    "weights_1_2 = np.linspace(-10, 10, 100)\n",
    "for w in weights_1_2:\n",
    "    scores_1_2.append(val.evaluate_predictions(y, X[:,0] + w*X[:,1])[0])"
   ]
  },
  {
   "cell_type": "code",
   "execution_count": 11,
   "metadata": {},
   "outputs": [
    {
     "data": {
      "text/plain": [
       "Text(0, 0.5, 'AUPR score')"
      ]
     },
     "execution_count": 11,
     "metadata": {},
     "output_type": "execute_result"
    },
    {
     "data": {
      "image/png": "[encoded data removed]",
      "text/plain": [
       "<Figure size 432x288 with 1 Axes>"
      ]
     },
     "metadata": {
      "needs_background": "light"
     },
     "output_type": "display_data"
    }
   ],
   "source": [
    "plt.plot(weights_1_2, scores_1_2)\n",
    "plt.title('Optimal combination of metapaths 1 and 2')\n",
    "plt.xlabel('Weight')\n",
    "plt.ylabel('AUPR score')"
   ]
  },
  {
   "cell_type": "code",
   "execution_count": 12,
   "metadata": {},
   "outputs": [
    {
     "name": "stdout",
     "output_type": "stream",
     "text": [
      "Best weight: -5.151515151515151\n",
      "Best AUPR score: 0.13197051438635787\n"
     ]
    }
   ],
   "source": [
    "idx = np.argmax(scores_1_2)\n",
    "print('Best weight:', weights_1_2[idx])\n",
    "print('Best AUPR score:', scores_1_2[idx])"
   ]
  },
  {
   "cell_type": "code",
   "execution_count": null,
   "metadata": {},
   "outputs": [],
   "source": []
  }
 ],
 "metadata": {
  "kernelspec": {
   "display_name": "Python 3",
   "language": "python",
   "name": "python3"
  },
  "language_info": {
   "codemirror_mode": {
    "name": "ipython",
    "version": 3
   },
   "file_extension": ".py",
   "mimetype": "text/x-python",
   "name": "python",
   "nbconvert_exporter": "python",
   "pygments_lexer": "ipython3",
   "version": "3.6.9"
  }
 },
 "nbformat": 4,
 "nbformat_minor": 2
}
